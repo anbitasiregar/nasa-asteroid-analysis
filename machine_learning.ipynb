{
 "cells": [
  {
   "cell_type": "markdown",
   "metadata": {},
   "source": [
    "# Machine Learning of NASA Asteroid data"
   ]
  },
  {
   "cell_type": "markdown",
   "metadata": {},
   "source": [
    "## Summary\n",
    "- summarize findings from EDA\n",
    "- what cols make for best predictors\n",
    "- what target\n",
    "- what preprocessing"
   ]
  },
  {
   "cell_type": "markdown",
   "metadata": {},
   "source": [
    "## Base classifiers\n",
    "To find your best classifier"
   ]
  },
  {
   "cell_type": "markdown",
   "metadata": {},
   "source": [
    "## Exhaustive ML\n",
    "- Pick one or two best models and improve them\n",
    "- Data preprocessing\n",
    "- Hyperparameter tuning\n",
    "- Data transformation\n",
    "- Additional pipelining\n",
    "- Use eval metrics and predictive data vis (ROC-AUC, heatmap confusion matrices)"
   ]
  },
  {
   "cell_type": "markdown",
   "metadata": {},
   "source": [
    "## Summary\n",
    "- How to further improve your model"
   ]
  },
  {
   "cell_type": "markdown",
   "metadata": {},
   "source": []
  }
 ],
 "metadata": {
  "language_info": {
   "name": "python"
  }
 },
 "nbformat": 4,
 "nbformat_minor": 2
}
