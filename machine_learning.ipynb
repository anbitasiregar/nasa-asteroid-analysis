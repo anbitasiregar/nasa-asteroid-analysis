{
 "cells": [
  {
   "cell_type": "markdown",
   "metadata": {},
   "source": [
    "# Machine Learning of NASA Asteroid data"
   ]
  },
  {
   "cell_type": "markdown",
   "metadata": {},
   "source": [
    "## Summary\n",
    "- summarize findings from EDA\n",
    "- what cols make for best predictors\n",
    "- what target\n",
    "- what preprocessing"
   ]
  },
  {
   "cell_type": "markdown",
   "metadata": {},
   "source": [
    "### Load our data"
   ]
  },
  {
   "cell_type": "code",
   "execution_count": 9,
   "metadata": {},
   "outputs": [],
   "source": [
    "import pandas as pd\n",
    "import numpy as np\n",
    "import matplotlib.pyplot as plt\n",
    "import seaborn as sns\n",
    "\n",
    "# data preprocessing and tuning\n",
    "from sklearn.model_selection import train_test_split, KFold, StratifiedKFold, cross_val_score, GridSearchCV\n",
    "from sklearn.preprocessing import StandardScaler, MinMaxScaler\n",
    "from sklearn.metrics import classification_report, confusion_matrix, accuracy_score, f1_score, explained_variance_score\n",
    "\n",
    "# Suite of Machine Learning Algorithms\n",
    "from sklearn.neighbors import KNeighborsClassifier\n",
    "from sklearn.svm import SVC, SVR\n",
    "from sklearn.tree import DecisionTreeClassifier\n",
    "from sklearn.naive_bayes import GaussianNB\n",
    "from sklearn.linear_model import LogisticRegression\n",
    "from sklearn.ensemble import RandomForestClassifier, AdaBoostClassifier\n",
    "from xgboost import XGBClassifier\n",
    "\n",
    "import helper\n",
    "\n",
    "# to get the newest version of helper\n",
    "import importlib\n",
    "importlib.reload(helper)\n",
    "\n",
    "# Setup to Ignore Version Errors and Deprecations\n",
    "import warnings\n",
    "warnings.filterwarnings(\"ignore\")"
   ]
  },
  {
   "cell_type": "code",
   "execution_count": 2,
   "metadata": {},
   "outputs": [
    {
     "data": {
      "text/html": [
       "<div>\n",
       "<style scoped>\n",
       "    .dataframe tbody tr th:only-of-type {\n",
       "        vertical-align: middle;\n",
       "    }\n",
       "\n",
       "    .dataframe tbody tr th {\n",
       "        vertical-align: top;\n",
       "    }\n",
       "\n",
       "    .dataframe thead th {\n",
       "        text-align: right;\n",
       "    }\n",
       "</style>\n",
       "<table border=\"1\" class=\"dataframe\">\n",
       "  <thead>\n",
       "    <tr style=\"text-align: right;\">\n",
       "      <th></th>\n",
       "      <th>Absolute Magnitude</th>\n",
       "      <th>Close Approach Date</th>\n",
       "      <th>Relative Velocity km per hr</th>\n",
       "      <th>Miss Dist.(kilometers)</th>\n",
       "      <th>Orbit Determination Date</th>\n",
       "      <th>Orbit Uncertainity</th>\n",
       "      <th>Minimum Orbit Intersection</th>\n",
       "      <th>Epoch Osculation</th>\n",
       "      <th>Eccentricity</th>\n",
       "      <th>Perihelion Distance</th>\n",
       "      <th>Aphelion Dist</th>\n",
       "      <th>Perihelion Time</th>\n",
       "      <th>Mean Anomaly</th>\n",
       "      <th>Hazardous</th>\n",
       "      <th>Est Dia in M(avg)</th>\n",
       "    </tr>\n",
       "  </thead>\n",
       "  <tbody>\n",
       "    <tr>\n",
       "      <th>0</th>\n",
       "      <td>21.6</td>\n",
       "      <td>0</td>\n",
       "      <td>22017.003799</td>\n",
       "      <td>62753692.0</td>\n",
       "      <td>534</td>\n",
       "      <td>5</td>\n",
       "      <td>0.025282</td>\n",
       "      <td>2458000.5</td>\n",
       "      <td>0.425549</td>\n",
       "      <td>0.808259</td>\n",
       "      <td>2.005764</td>\n",
       "      <td>2.458162e+06</td>\n",
       "      <td>264.837533</td>\n",
       "      <td>1</td>\n",
       "      <td>205.846088</td>\n",
       "    </tr>\n",
       "    <tr>\n",
       "      <th>1</th>\n",
       "      <td>21.3</td>\n",
       "      <td>0</td>\n",
       "      <td>65210.346095</td>\n",
       "      <td>57298148.0</td>\n",
       "      <td>432</td>\n",
       "      <td>3</td>\n",
       "      <td>0.186935</td>\n",
       "      <td>2458000.5</td>\n",
       "      <td>0.351674</td>\n",
       "      <td>0.718200</td>\n",
       "      <td>1.497352</td>\n",
       "      <td>2.457795e+06</td>\n",
       "      <td>173.741112</td>\n",
       "      <td>0</td>\n",
       "      <td>236.342931</td>\n",
       "    </tr>\n",
       "    <tr>\n",
       "      <th>2</th>\n",
       "      <td>20.3</td>\n",
       "      <td>1</td>\n",
       "      <td>27326.560182</td>\n",
       "      <td>7622911.5</td>\n",
       "      <td>1910</td>\n",
       "      <td>0</td>\n",
       "      <td>0.043058</td>\n",
       "      <td>2458000.5</td>\n",
       "      <td>0.348248</td>\n",
       "      <td>0.950791</td>\n",
       "      <td>1.966857</td>\n",
       "      <td>2.458120e+06</td>\n",
       "      <td>292.893654</td>\n",
       "      <td>1</td>\n",
       "      <td>374.578302</td>\n",
       "    </tr>\n",
       "    <tr>\n",
       "      <th>3</th>\n",
       "      <td>27.4</td>\n",
       "      <td>2</td>\n",
       "      <td>40225.948191</td>\n",
       "      <td>42683616.0</td>\n",
       "      <td>1761</td>\n",
       "      <td>6</td>\n",
       "      <td>0.005512</td>\n",
       "      <td>2458000.5</td>\n",
       "      <td>0.216578</td>\n",
       "      <td>0.983902</td>\n",
       "      <td>1.527904</td>\n",
       "      <td>2.457902e+06</td>\n",
       "      <td>68.741007</td>\n",
       "      <td>0</td>\n",
       "      <td>14.241070</td>\n",
       "    </tr>\n",
       "    <tr>\n",
       "      <th>4</th>\n",
       "      <td>21.6</td>\n",
       "      <td>2</td>\n",
       "      <td>35426.991794</td>\n",
       "      <td>61010824.0</td>\n",
       "      <td>1190</td>\n",
       "      <td>1</td>\n",
       "      <td>0.034798</td>\n",
       "      <td>2458000.5</td>\n",
       "      <td>0.210448</td>\n",
       "      <td>0.967687</td>\n",
       "      <td>1.483543</td>\n",
       "      <td>2.457814e+06</td>\n",
       "      <td>135.142133</td>\n",
       "      <td>1</td>\n",
       "      <td>205.846088</td>\n",
       "    </tr>\n",
       "  </tbody>\n",
       "</table>\n",
       "</div>"
      ],
      "text/plain": [
       "   Absolute Magnitude  Close Approach Date  Relative Velocity km per hr  \\\n",
       "0                21.6                    0                 22017.003799   \n",
       "1                21.3                    0                 65210.346095   \n",
       "2                20.3                    1                 27326.560182   \n",
       "3                27.4                    2                 40225.948191   \n",
       "4                21.6                    2                 35426.991794   \n",
       "\n",
       "   Miss Dist.(kilometers)  Orbit Determination Date  Orbit Uncertainity  \\\n",
       "0              62753692.0                       534                   5   \n",
       "1              57298148.0                       432                   3   \n",
       "2               7622911.5                      1910                   0   \n",
       "3              42683616.0                      1761                   6   \n",
       "4              61010824.0                      1190                   1   \n",
       "\n",
       "   Minimum Orbit Intersection  Epoch Osculation  Eccentricity  \\\n",
       "0                    0.025282         2458000.5      0.425549   \n",
       "1                    0.186935         2458000.5      0.351674   \n",
       "2                    0.043058         2458000.5      0.348248   \n",
       "3                    0.005512         2458000.5      0.216578   \n",
       "4                    0.034798         2458000.5      0.210448   \n",
       "\n",
       "   Perihelion Distance  Aphelion Dist  Perihelion Time  Mean Anomaly  \\\n",
       "0             0.808259       2.005764     2.458162e+06    264.837533   \n",
       "1             0.718200       1.497352     2.457795e+06    173.741112   \n",
       "2             0.950791       1.966857     2.458120e+06    292.893654   \n",
       "3             0.983902       1.527904     2.457902e+06     68.741007   \n",
       "4             0.967687       1.483543     2.457814e+06    135.142133   \n",
       "\n",
       "   Hazardous  Est Dia in M(avg)  \n",
       "0          1         205.846088  \n",
       "1          0         236.342931  \n",
       "2          1         374.578302  \n",
       "3          0          14.241070  \n",
       "4          1         205.846088  "
      ]
     },
     "execution_count": 2,
     "metadata": {},
     "output_type": "execute_result"
    }
   ],
   "source": [
    "analysis_df = pd.read_csv(\"data/analysis_data.csv\")\n",
    "analysis_df.head()"
   ]
  },
  {
   "cell_type": "markdown",
   "metadata": {},
   "source": [
    "## Base classifiers"
   ]
  },
  {
   "cell_type": "markdown",
   "metadata": {},
   "source": [
    "### \"Shotgun Approach\": Classification Models\n",
    "Given the nature of the target data, let's first try seeing the accuracy of classification models."
   ]
  },
  {
   "cell_type": "code",
   "execution_count": 3,
   "metadata": {},
   "outputs": [],
   "source": [
    "TARGET = [\"Hazardous\"]\n",
    "\n",
    "X, y = analysis_df.drop(columns=TARGET, axis=1), analysis_df[TARGET]"
   ]
  },
  {
   "cell_type": "code",
   "execution_count": 4,
   "metadata": {},
   "outputs": [],
   "source": [
    "# Train test split data\n",
    "X_train, X_test, y_train, y_test = train_test_split(X, y,\n",
    "                                        train_size=0.7,\n",
    "                                        test_size=0.3,\n",
    "                                        random_state=42)"
   ]
  },
  {
   "cell_type": "code",
   "execution_count": 5,
   "metadata": {},
   "outputs": [],
   "source": [
    "# creating models that we want to test to see which is most optimized\n",
    "# we will use this to test different X_train variations\n",
    "cat_models = {\n",
    "    \"KNN\": {\n",
    "        \"Estimator\": KNeighborsClassifier(),\n",
    "        },\n",
    "    \"SVM\": {\n",
    "        \"Estimator\": SVC(),\n",
    "        },\n",
    "    \"CART\": {\n",
    "        \"Estimator\": DecisionTreeClassifier(),\n",
    "        },\n",
    "    \"NB\": {\n",
    "        \"Estimator\": GaussianNB(),\n",
    "        },\n",
    "    \"LOGREG\": {\n",
    "        \"Estimator\": LogisticRegression(),\n",
    "        }\n",
    "}"
   ]
  },
  {
   "cell_type": "code",
   "execution_count": 10,
   "metadata": {},
   "outputs": [
    {
     "name": "stdout",
     "output_type": "stream",
     "text": [
      "\n",
      "[MODEL TYPE: KNN]\n",
      "\n",
      ">>>> Top Performance: \t\t0.8293\n",
      ">>>> Average Performance: \t0.8107\n",
      ">>>> Spread of Performance: \t0.0104\n",
      "\n",
      "[MODEL TYPE: SVM]\n",
      "\n",
      ">>>> Top Performance: \t\t0.8354\n",
      ">>>> Average Performance: \t0.8348\n",
      ">>>> Spread of Performance: \t0.0012\n",
      "\n",
      "[MODEL TYPE: CART]\n",
      "\n",
      ">>>> Top Performance: \t\t1.0000\n",
      ">>>> Average Performance: \t0.9948\n",
      ">>>> Spread of Performance: \t0.0045\n",
      "\n",
      "[MODEL TYPE: NB]\n",
      "\n",
      ">>>> Top Performance: \t\t0.8476\n",
      ">>>> Average Performance: \t0.8220\n",
      ">>>> Spread of Performance: \t0.0157\n",
      "\n",
      "[MODEL TYPE: LOGREG]\n",
      "\n",
      ">>>> Top Performance: \t\t0.8415\n",
      ">>>> Average Performance: \t0.8338\n",
      ">>>> Spread of Performance: \t0.0037\n"
     ]
    }
   ],
   "source": [
    "# test performance of different models using X_train\n",
    "helper.test_models_performance(cat_models, X_train, y_train, isRegressor=False)"
   ]
  },
  {
   "cell_type": "markdown",
   "metadata": {},
   "source": [
    "The decision tree is probably overfit, as the average performance is 99%, and the top performing tree has a 100% fit. Naive Bayes or Logistic Regression may be the best performing models. Let's use Logistic Regression and try to improve it."
   ]
  },
  {
   "cell_type": "code",
   "execution_count": 11,
   "metadata": {},
   "outputs": [
    {
     "name": "stdout",
     "output_type": "stream",
     "text": [
      "> ACCURACY: \t84.93%\n"
     ]
    }
   ],
   "source": [
    "# let's create an instance of that and tune it to have even better accuracy\n",
    "logreg_model = LogisticRegression()\n",
    "\n",
    "y_pred = helper.fit_predict(logreg_model, X_train, y_train, X_test, y_test, isRegressor=False)"
   ]
  },
  {
   "cell_type": "markdown",
   "metadata": {},
   "source": [
    "### Accuracy to beat: 84.93%"
   ]
  },
  {
   "cell_type": "markdown",
   "metadata": {},
   "source": [
    "## Exhaustive Machine Learning"
   ]
  },
  {
   "cell_type": "markdown",
   "metadata": {},
   "source": [
    "### Tuning: Standard Scaler"
   ]
  },
  {
   "cell_type": "code",
   "execution_count": 13,
   "metadata": {},
   "outputs": [],
   "source": [
    "# use standard scaler\n",
    "# check if that will gain better results\n",
    "scaler = StandardScaler()\n",
    "X_train_scaled = scaler.fit_transform(X_train)\n",
    "X_test_scaled = scaler.transform(X_test)"
   ]
  },
  {
   "cell_type": "code",
   "execution_count": 14,
   "metadata": {},
   "outputs": [
    {
     "name": "stdout",
     "output_type": "stream",
     "text": [
      "> ACCURACY: \t95.02%\n"
     ]
    }
   ],
   "source": [
    "y_pred = helper.fit_predict(logreg_model, X_train_scaled, y_train, X_test_scaled, y_test, isRegressor=False)"
   ]
  },
  {
   "cell_type": "markdown",
   "metadata": {},
   "source": [
    "Scaling the data increased the accuracy to 95%!\n",
    "#### Accuracy to beat: 95.02%"
   ]
  },
  {
   "cell_type": "markdown",
   "metadata": {},
   "source": [
    "### Tuning: MinMax Scaler"
   ]
  },
  {
   "cell_type": "code",
   "execution_count": 15,
   "metadata": {},
   "outputs": [],
   "source": [
    "# use minmax scaler\n",
    "# check if that will gain better results\n",
    "scaler = MinMaxScaler()\n",
    "X_train_mm_scaled = scaler.fit_transform(X_train)\n",
    "X_test_mm_scaled = scaler.transform(X_test)"
   ]
  },
  {
   "cell_type": "code",
   "execution_count": 16,
   "metadata": {},
   "outputs": [
    {
     "name": "stdout",
     "output_type": "stream",
     "text": [
      "> ACCURACY: \t92.54%\n"
     ]
    }
   ],
   "source": [
    "y_pred = helper.fit_predict(logreg_model, X_train_mm_scaled, y_train, X_test_mm_scaled, y_test, isRegressor=False)"
   ]
  },
  {
   "cell_type": "markdown",
   "metadata": {},
   "source": [
    "Using a MinMax scaler made the accuracy worse. Let's stick to our standard scaled data.\n",
    "\n",
    "#### Accuracy to beat: 95.02%"
   ]
  },
  {
   "cell_type": "code",
   "execution_count": null,
   "metadata": {},
   "outputs": [],
   "source": [
    "# Epoch Osculation vs Perihelion Time"
   ]
  },
  {
   "cell_type": "markdown",
   "metadata": {},
   "source": [
    "### Tuning: GridSearchCV"
   ]
  },
  {
   "cell_type": "code",
   "execution_count": 19,
   "metadata": {},
   "outputs": [
    {
     "data": {
      "text/plain": [
       "[('Eccentricity', 0.8945822234224964),\n",
       " ('Aphelion Dist', 0.6969495661330356),\n",
       " ('Relative Velocity km per hr', 0.5887025912082454),\n",
       " ('Mean Anomaly', 0.11972332411952545),\n",
       " ('Perihelion Distance', 0.04467061736083125),\n",
       " ('Miss Dist.(kilometers)', 0.0270469711715801),\n",
       " ('Orbit Determination Date', -0.07232177828083347),\n",
       " ('Close Approach Date', -0.29709808147759004),\n",
       " ('Epoch Osculation', -0.3167106608492958),\n",
       " ('Perihelion Time', -0.5957942862935678),\n",
       " ('Est Dia in M(avg)', -1.2607464341376515),\n",
       " ('Orbit Uncertainity', -2.5202651722567797),\n",
       " ('Absolute Magnitude', -8.452310552720926),\n",
       " ('Minimum Orbit Intersection', -13.698405188997702)]"
      ]
     },
     "execution_count": 19,
     "metadata": {},
     "output_type": "execute_result"
    }
   ],
   "source": [
    "# let's investigate the expressed signal from each of our features\n",
    "importances, features = logreg_model.coef_[0], list(X)\n",
    "\n",
    "feature_importances = [(features[iteration], importances[iteration]) for iteration in range(len(features))]\n",
    "feature_importances.sort(reverse=True, key=lambda X: X[1])\n",
    "\n",
    "feature_importances"
   ]
  },
  {
   "cell_type": "code",
   "execution_count": 20,
   "metadata": {},
   "outputs": [],
   "source": [
    "# choose hyperparamters to test in the GridSearchCV\n",
    "hyperparameters = {\n",
    "\t\t 'penalty': ['l1', 'l2', 'elasticnet', 'none'],\n",
    "\t\t 'C': [0.001, 0.01, 0.1, 1, 10, 100],\n",
    "\t\t 'solver': [\"liblinear\", \"lbfgs\", \"newton-cg\", \"sag\", \"saga\"],\n",
    "\t\t 'max_iter': [100, 200, 500],\n",
    "\t\t 'l1_ratio': [0.0, 0.25, 0.5, 0.75, 1.0]\n",
    "}"
   ]
  },
  {
   "cell_type": "code",
   "execution_count": 21,
   "metadata": {},
   "outputs": [],
   "source": [
    "tuned_model = LogisticRegression(random_state=42)\n",
    "model_tuner = GridSearchCV(tuned_model, hyperparameters, cv=10)"
   ]
  },
  {
   "cell_type": "code",
   "execution_count": null,
   "metadata": {},
   "outputs": [
    {
     "data": {
      "text/html": [
       "<style>#sk-container-id-1 {color: black;background-color: white;}#sk-container-id-1 pre{padding: 0;}#sk-container-id-1 div.sk-toggleable {background-color: white;}#sk-container-id-1 label.sk-toggleable__label {cursor: pointer;display: block;width: 100%;margin-bottom: 0;padding: 0.3em;box-sizing: border-box;text-align: center;}#sk-container-id-1 label.sk-toggleable__label-arrow:before {content: \"▸\";float: left;margin-right: 0.25em;color: #696969;}#sk-container-id-1 label.sk-toggleable__label-arrow:hover:before {color: black;}#sk-container-id-1 div.sk-estimator:hover label.sk-toggleable__label-arrow:before {color: black;}#sk-container-id-1 div.sk-toggleable__content {max-height: 0;max-width: 0;overflow: hidden;text-align: left;background-color: #f0f8ff;}#sk-container-id-1 div.sk-toggleable__content pre {margin: 0.2em;color: black;border-radius: 0.25em;background-color: #f0f8ff;}#sk-container-id-1 input.sk-toggleable__control:checked~div.sk-toggleable__content {max-height: 200px;max-width: 100%;overflow: auto;}#sk-container-id-1 input.sk-toggleable__control:checked~label.sk-toggleable__label-arrow:before {content: \"▾\";}#sk-container-id-1 div.sk-estimator input.sk-toggleable__control:checked~label.sk-toggleable__label {background-color: #d4ebff;}#sk-container-id-1 div.sk-label input.sk-toggleable__control:checked~label.sk-toggleable__label {background-color: #d4ebff;}#sk-container-id-1 input.sk-hidden--visually {border: 0;clip: rect(1px 1px 1px 1px);clip: rect(1px, 1px, 1px, 1px);height: 1px;margin: -1px;overflow: hidden;padding: 0;position: absolute;width: 1px;}#sk-container-id-1 div.sk-estimator {font-family: monospace;background-color: #f0f8ff;border: 1px dotted black;border-radius: 0.25em;box-sizing: border-box;margin-bottom: 0.5em;}#sk-container-id-1 div.sk-estimator:hover {background-color: #d4ebff;}#sk-container-id-1 div.sk-parallel-item::after {content: \"\";width: 100%;border-bottom: 1px solid gray;flex-grow: 1;}#sk-container-id-1 div.sk-label:hover label.sk-toggleable__label {background-color: #d4ebff;}#sk-container-id-1 div.sk-serial::before {content: \"\";position: absolute;border-left: 1px solid gray;box-sizing: border-box;top: 0;bottom: 0;left: 50%;z-index: 0;}#sk-container-id-1 div.sk-serial {display: flex;flex-direction: column;align-items: center;background-color: white;padding-right: 0.2em;padding-left: 0.2em;position: relative;}#sk-container-id-1 div.sk-item {position: relative;z-index: 1;}#sk-container-id-1 div.sk-parallel {display: flex;align-items: stretch;justify-content: center;background-color: white;position: relative;}#sk-container-id-1 div.sk-item::before, #sk-container-id-1 div.sk-parallel-item::before {content: \"\";position: absolute;border-left: 1px solid gray;box-sizing: border-box;top: 0;bottom: 0;left: 50%;z-index: -1;}#sk-container-id-1 div.sk-parallel-item {display: flex;flex-direction: column;z-index: 1;position: relative;background-color: white;}#sk-container-id-1 div.sk-parallel-item:first-child::after {align-self: flex-end;width: 50%;}#sk-container-id-1 div.sk-parallel-item:last-child::after {align-self: flex-start;width: 50%;}#sk-container-id-1 div.sk-parallel-item:only-child::after {width: 0;}#sk-container-id-1 div.sk-dashed-wrapped {border: 1px dashed gray;margin: 0 0.4em 0.5em 0.4em;box-sizing: border-box;padding-bottom: 0.4em;background-color: white;}#sk-container-id-1 div.sk-label label {font-family: monospace;font-weight: bold;display: inline-block;line-height: 1.2em;}#sk-container-id-1 div.sk-label-container {text-align: center;}#sk-container-id-1 div.sk-container {/* jupyter's `normalize.less` sets `[hidden] { display: none; }` but bootstrap.min.css set `[hidden] { display: none !important; }` so we also need the `!important` here to be able to override the default hidden behavior on the sphinx rendered scikit-learn.org. See: https://github.com/scikit-learn/scikit-learn/issues/21755 */display: inline-block !important;position: relative;}#sk-container-id-1 div.sk-text-repr-fallback {display: none;}</style><div id=\"sk-container-id-1\" class=\"sk-top-container\"><div class=\"sk-text-repr-fallback\"><pre>GridSearchCV(cv=10, estimator=LogisticRegression(random_state=42),\n",
       "             param_grid={&#x27;C&#x27;: [0.001, 0.01, 0.1, 1, 10, 100],\n",
       "                         &#x27;l1_ratio&#x27;: [0.0, 0.25, 0.5, 0.75, 1.0],\n",
       "                         &#x27;max_iter&#x27;: [100, 200, 500],\n",
       "                         &#x27;penalty&#x27;: [&#x27;l1&#x27;, &#x27;l2&#x27;, &#x27;elasticnet&#x27;, &#x27;none&#x27;],\n",
       "                         &#x27;solver&#x27;: [&#x27;liblinear&#x27;, &#x27;lbfgs&#x27;, &#x27;newton-cg&#x27;, &#x27;sag&#x27;,\n",
       "                                    &#x27;saga&#x27;]})</pre><b>In a Jupyter environment, please rerun this cell to show the HTML representation or trust the notebook. <br />On GitHub, the HTML representation is unable to render, please try loading this page with nbviewer.org.</b></div><div class=\"sk-container\" hidden><div class=\"sk-item sk-dashed-wrapped\"><div class=\"sk-label-container\"><div class=\"sk-label sk-toggleable\"><input class=\"sk-toggleable__control sk-hidden--visually\" id=\"sk-estimator-id-1\" type=\"checkbox\" ><label for=\"sk-estimator-id-1\" class=\"sk-toggleable__label sk-toggleable__label-arrow\">GridSearchCV</label><div class=\"sk-toggleable__content\"><pre>GridSearchCV(cv=10, estimator=LogisticRegression(random_state=42),\n",
       "             param_grid={&#x27;C&#x27;: [0.001, 0.01, 0.1, 1, 10, 100],\n",
       "                         &#x27;l1_ratio&#x27;: [0.0, 0.25, 0.5, 0.75, 1.0],\n",
       "                         &#x27;max_iter&#x27;: [100, 200, 500],\n",
       "                         &#x27;penalty&#x27;: [&#x27;l1&#x27;, &#x27;l2&#x27;, &#x27;elasticnet&#x27;, &#x27;none&#x27;],\n",
       "                         &#x27;solver&#x27;: [&#x27;liblinear&#x27;, &#x27;lbfgs&#x27;, &#x27;newton-cg&#x27;, &#x27;sag&#x27;,\n",
       "                                    &#x27;saga&#x27;]})</pre></div></div></div><div class=\"sk-parallel\"><div class=\"sk-parallel-item\"><div class=\"sk-item\"><div class=\"sk-label-container\"><div class=\"sk-label sk-toggleable\"><input class=\"sk-toggleable__control sk-hidden--visually\" id=\"sk-estimator-id-2\" type=\"checkbox\" ><label for=\"sk-estimator-id-2\" class=\"sk-toggleable__label sk-toggleable__label-arrow\">estimator: LogisticRegression</label><div class=\"sk-toggleable__content\"><pre>LogisticRegression(random_state=42)</pre></div></div></div><div class=\"sk-serial\"><div class=\"sk-item\"><div class=\"sk-estimator sk-toggleable\"><input class=\"sk-toggleable__control sk-hidden--visually\" id=\"sk-estimator-id-3\" type=\"checkbox\" ><label for=\"sk-estimator-id-3\" class=\"sk-toggleable__label sk-toggleable__label-arrow\">LogisticRegression</label><div class=\"sk-toggleable__content\"><pre>LogisticRegression(random_state=42)</pre></div></div></div></div></div></div></div></div></div></div>"
      ],
      "text/plain": [
       "GridSearchCV(cv=10, estimator=LogisticRegression(random_state=42),\n",
       "             param_grid={'C': [0.001, 0.01, 0.1, 1, 10, 100],\n",
       "                         'l1_ratio': [0.0, 0.25, 0.5, 0.75, 1.0],\n",
       "                         'max_iter': [100, 200, 500],\n",
       "                         'penalty': ['l1', 'l2', 'elasticnet', 'none'],\n",
       "                         'solver': ['liblinear', 'lbfgs', 'newton-cg', 'sag',\n",
       "                                    'saga']})"
      ]
     },
     "execution_count": 23,
     "metadata": {},
     "output_type": "execute_result"
    }
   ],
   "source": [
    "# commenting this out because it took 16 minutes to run\n",
    "# model_tuner.fit(X_train_scaled, y_train)"
   ]
  },
  {
   "cell_type": "markdown",
   "metadata": {},
   "source": [
    "## Exhaustive ML\n",
    "- Pick one or two best models and improve them\n",
    "- Data preprocessing\n",
    "- Hyperparameter tuning\n",
    "- Data transformation\n",
    "- Additional pipelining\n",
    "- Use eval metrics and predictive data vis (ROC-AUC, heatmap confusion matrices)"
   ]
  },
  {
   "cell_type": "markdown",
   "metadata": {},
   "source": [
    "## Summary\n",
    "- How to further improve your model"
   ]
  },
  {
   "cell_type": "markdown",
   "metadata": {},
   "source": [
    "### Resources"
   ]
  },
  {
   "cell_type": "markdown",
   "metadata": {},
   "source": []
  }
 ],
 "metadata": {
  "kernelspec": {
   "display_name": "Cohort-Env",
   "language": "python",
   "name": "python3"
  },
  "language_info": {
   "codemirror_mode": {
    "name": "ipython",
    "version": 3
   },
   "file_extension": ".py",
   "mimetype": "text/x-python",
   "name": "python",
   "nbconvert_exporter": "python",
   "pygments_lexer": "ipython3",
   "version": "3.8.19"
  }
 },
 "nbformat": 4,
 "nbformat_minor": 2
}
